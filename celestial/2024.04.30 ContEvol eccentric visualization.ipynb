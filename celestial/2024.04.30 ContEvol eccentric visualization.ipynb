{
 "cells": [
  {
   "cell_type": "code",
   "execution_count": 1,
   "id": "3472cff7-e86c-4ab8-84e7-ee2b3d8a9382",
   "metadata": {},
   "outputs": [],
   "source": [
    "from time import perf_counter\n",
    "import numpy as np\n",
    "from scipy.optimize import fsolve\n",
    "from numba import njit"
   ]
  },
  {
   "cell_type": "code",
   "execution_count": 2,
   "id": "a5d2e61d-5bcb-4e7b-865d-2af5ba163f9f",
   "metadata": {},
   "outputs": [],
   "source": [
    "%matplotlib inline\n",
    "import matplotlib as mpl\n",
    "\n",
    "import matplotlib.pyplot as plt\n",
    "from matplotlib import rcParams\n",
    "rcParams.update({'font.family': 'serif', 'mathtext.fontset': 'dejavuserif',\n",
    "                 'font.size': 12, 'text.latex.preamble': r\"\\usepackage{amsmath}\",\n",
    "                 'xtick.major.pad': 2, 'ytick.major.pad': 2, 'xtick.major.size': 6, 'ytick.major.size': 6,\n",
    "                 'xtick.minor.size': 3, 'ytick.minor.size': 3, 'axes.linewidth': 2, 'axes.labelpad': 1})\n",
    "\n",
    "def format_axis(ax: mpl.axes._axes.Axes) -> None:\n",
    "    ax.minorticks_on(); ax.grid(visible=True, which='major', linestyle=':')\n",
    "    ax.tick_params(axis='both', which='both', direction='out')\n",
    "    ax.xaxis.set_ticks_position('both')\n",
    "    ax.yaxis.set_ticks_position('both')\n",
    "    ax.patch.set_alpha(0.0)"
   ]
  },
  {
   "cell_type": "markdown",
   "id": "d4617bb7-694b-41c0-84cd-b00e1b74bb52",
   "metadata": {},
   "source": [
    "# Exact Solution"
   ]
  },
  {
   "cell_type": "code",
   "execution_count": 3,
   "id": "f920d35e-ceb9-458b-bf67-c40585a8eb89",
   "metadata": {},
   "outputs": [],
   "source": [
    "def Keplers_equation(M, e):\n",
    "    func = lambda x: x - e*np.sin(x) - M\n",
    "    return fsolve(func, M)[0]\n",
    "\n",
    "vKeplers_equation = np.vectorize(Keplers_equation)"
   ]
  },
  {
   "cell_type": "code",
   "execution_count": 4,
   "id": "57630dff-0b74-4c55-b601-fbc87bc3cc59",
   "metadata": {},
   "outputs": [
    {
     "data": {
      "text/plain": [
       "(16.0, 0.984375, 2.817356917396161, 15.75)"
      ]
     },
     "execution_count": 4,
     "metadata": {},
     "output_type": "execute_result"
    }
   ],
   "source": [
    "a_test = 16.0  # semi-major axis\n",
    "e_test = 63/64  # eccentricity\n",
    "b_test = a_test * (1.0 - e_test ** 2.0) ** 0.5  # semi-minor axis\n",
    "c_test = a_test * e_test  # focal distance axis\n",
    "(a_test, e_test, b_test, c_test)"
   ]
  },
  {
   "cell_type": "code",
   "execution_count": 5,
   "id": "0b156d9e-6a9a-4d38-8505-9418e3d91bc3",
   "metadata": {},
   "outputs": [],
   "source": [
    "M_exact = np.linspace(0, 432/64, 432*64+1, dtype=float)  # mean anomaly\n",
    "E_exact = vKeplers_equation(M_exact, e_test)  # eccentric anomaly"
   ]
  },
  {
   "cell_type": "code",
   "execution_count": 6,
   "id": "e4215eff-4ffb-4a14-8439-186834de5228",
   "metadata": {},
   "outputs": [],
   "source": [
    "rxy_exact = np.empty((2, 432*64+1), dtype=float)  # exact position\n",
    "rxy_exact[0] = (np.cos(E_exact) - e_test) * a_test\n",
    "rxy_exact[1] = np.sin(E_exact) * b_test"
   ]
  },
  {
   "cell_type": "code",
   "execution_count": 7,
   "id": "0c6b1587-d281-4487-80c0-dba665a3ded7",
   "metadata": {},
   "outputs": [
    {
     "data": {
      "text/plain": [
       "(-0.03125,\n",
       " array([0.25, 0.  ]),\n",
       " array([0.        , 2.81735692]),\n",
       " 0.7043392293490403)"
      ]
     },
     "execution_count": 7,
     "metadata": {},
     "output_type": "execute_result"
    }
   ],
   "source": [
    "EM_test = -1 / (a_test*2.0)  # mechanic energy\n",
    "r0x_test = a_test - c_test  # initial position\n",
    "r0_test = np.array([r0x_test, 0.0], dtype=np.float64)\n",
    "v0y_test = (1/a_test * (1+e_test)/(1-e_test)) ** 0.5  # initial velocity\n",
    "v0_test = np.array([0.0, v0y_test], dtype=np.float64)\n",
    "Lz_test = (a_test * (1-e_test**2.0)) ** 0.5  # angular momentum\n",
    "(EM_test, r0_test, v0_test, Lz_test)"
   ]
  },
  {
   "cell_type": "code",
   "execution_count": 8,
   "id": "2c5556cc-0656-4ac8-968f-f59eba292d3a",
   "metadata": {},
   "outputs": [],
   "source": [
    "@njit  # conservation correction\n",
    "def CC_rxy_to_vxy(rxy, vxy, EM, Lz):\n",
    "    vxy[0] = -rxy[1] * Lz\n",
    "    vxy[1] = rxy[0] * Lz\n",
    "\n",
    "    r2 = np.sum(np.square(rxy))\n",
    "    sqrt_Deltar = max(2.0 * (r2**0.5 + EM*r2) - Lz**2.0, 0.0) ** 0.5\n",
    "    vxy += np.sign(rxy[1]) * rxy * sqrt_Deltar\n",
    "\n",
    "    vxy /= r2"
   ]
  },
  {
   "cell_type": "code",
   "execution_count": 9,
   "id": "dd812224-d6e8-44af-ad28-db364d5eb0af",
   "metadata": {},
   "outputs": [],
   "source": [
    "vxy_exact = np.empty((2, 432*64+1), dtype=float)  # exact velocity\n",
    "for i in range(432*64+1):\n",
    "    CC_rxy_to_vxy(rxy_exact[:, i], vxy_exact[:, i], EM_test, Lz_test)"
   ]
  },
  {
   "cell_type": "code",
   "execution_count": 10,
   "id": "5d4bda2f-088b-433a-a345-35b0157beaa4",
   "metadata": {},
   "outputs": [],
   "source": [
    "@njit  # mechanic energy\n",
    "def EM_from_rxy_vxy(rxy, vxy):\n",
    "    # r = np.sqrt(np.sum(np.square(rxy)))\n",
    "    # v2 = np.sum(np.square(vxy))\n",
    "    return -1.0/np.sqrt(np.sum(np.square(rxy))) + np.sum(np.square(vxy))/2.0\n",
    "\n",
    "@njit  # angular momentum\n",
    "def Lz_from_rxy_vxy(rxy, vxy):\n",
    "    return rxy[0]*vxy[1] - rxy[1]*vxy[0]"
   ]
  },
  {
   "cell_type": "code",
   "execution_count": 11,
   "id": "b84625c8-2676-414b-ad4d-d5eb3490e8e4",
   "metadata": {},
   "outputs": [],
   "source": [
    "exact_plot = False  # 4/28/2024, plot everything versus mean anomaly\n",
    "\n",
    "if exact_plot:\n",
    "    EM_recover = np.empty((432*64+1,), dtype=float)  # ``recovered'' mechanic energy\n",
    "    Lz_recover = np.empty((432*64+1,), dtype=float)  # ``recovered'' angular momentum\n",
    "    for i in range(432*64+1):\n",
    "        EM_recover[i] = EM_from_rxy_vxy(rxy_exact[:, i], vxy_exact[:, i])\n",
    "        Lz_recover[i] = Lz_from_rxy_vxy(rxy_exact[:, i], vxy_exact[:, i])"
   ]
  },
  {
   "cell_type": "code",
   "execution_count": 12,
   "id": "ceddc722-9b05-446f-a2b1-a41bc4246754",
   "metadata": {},
   "outputs": [],
   "source": [
    "if exact_plot:\n",
    "    fig, axs = plt.subplots(7, figsize=(12.8, 12.8), sharex='col')\n",
    "\n",
    "    for ax, data, label in zip(axs, [E_exact, *rxy_exact, *vxy_exact, EM_recover - EM_test, Lz_recover - Lz_test],\n",
    "                               ['Eccentric anomaly', 'Position ($x$ comp)', 'Position ($y$ comp)',\n",
    "                                'Velocity ($x$ comp)', 'Velocity ($y$ comp)', '$\\Delta$ Mechanic energy', '$\\Delta$ Angular momentum']):\n",
    "        ax.scatter(M_exact, data, c='tab:blue', s=0.1, rasterized=True)\n",
    "        ax.set_ylabel(label)\n",
    "        format_axis(ax)\n",
    "\n",
    "    axs[-1].set_xlabel('Mean anomaly')\n",
    "    axs[-1].set_xlim((-0.05, M_exact[-1]+0.05))\n",
    "    fig.tight_layout()\n",
    "    fig.subplots_adjust(hspace=0.1)\n",
    "    plt.savefig('eccentric_exact.pdf', dpi=128)"
   ]
  },
  {
   "cell_type": "markdown",
   "id": "02f94220-b8c2-4820-8e65-4fec563edc23",
   "metadata": {},
   "source": [
    "# Common tools"
   ]
  },
  {
   "cell_type": "code",
   "execution_count": 13,
   "id": "7c2bef71-e890-4fba-a72a-b5df85a37be7",
   "metadata": {},
   "outputs": [],
   "source": [
    "@njit  # equation of motion\n",
    "def EOM_rxy_to_axy(rxy, axy):\n",
    "    axy[:] = -rxy\n",
    "    r2 = rxy @ rxy\n",
    "    axy /= r2 ** 1.5"
   ]
  },
  {
   "cell_type": "code",
   "execution_count": 14,
   "id": "0d8bacee-4aa2-42b0-a965-0dd9ad06d403",
   "metadata": {},
   "outputs": [],
   "source": [
    "def test_integrator(integrator):\n",
    "    # uniform circular motion, as a test\n",
    "    r0_UCM = np.array([1, 0], dtype=np.float64)\n",
    "    v0_UCM = np.array([0, 1], dtype=np.float64)\n",
    "    rvh_exact = np.empty((4,), dtype=np.float64)\n",
    "\n",
    "    for h_test in [1/16, 1/64, 1/256, 1/1024]:\n",
    "        rvh_exact[::3] = np.cos(h_test)\n",
    "        rvh_exact[1] = np.sin(h_test)\n",
    "        rvh_exact[2] = -rvh_exact[1]\n",
    "\n",
    "        t_start = perf_counter()\n",
    "        history = integrator(1, 1, h_test, r0_UCM, v0_UCM)\n",
    "        t_end = perf_counter()\n",
    "        print(f'h = {h_test:.4f}:', t_end-t_start, 's,', history[1] - rvh_exact)"
   ]
  },
  {
   "cell_type": "code",
   "execution_count": 15,
   "id": "14c1ae0a-579a-44d7-a542-3816d13a6af5",
   "metadata": {},
   "outputs": [],
   "source": [
    "# mechanic energy\n",
    "def vEM_from_rxy_vxy(rxy, vxy):\n",
    "    return -1.0/np.sqrt(np.einsum('si,si->s', rxy, rxy)) + np.einsum('si,si->s', vxy, vxy)/2.0\n",
    "\n",
    "# angular momentum\n",
    "def vLz_from_rxy_vxy(rxy, vxy):\n",
    "    return rxy[:, 0]*vxy[:, 1] - rxy[:, 1]*vxy[:, 0]"
   ]
  },
  {
   "cell_type": "code",
   "execution_count": 16,
   "id": "eeec74b7-5e6f-4bb2-bacb-fbba0895a173",
   "metadata": {},
   "outputs": [],
   "source": [
    "def interp_maker(x0, xh, v0, vh, h):\n",
    "    A = 2*(x0-xh)*(h**-3) + (v0+vh)*(h**-2)\n",
    "    B = 3*(xh-x0)*(h**-2) - (2*v0+vh)*(h**-1)\n",
    "    return lambda x: x0 + v0*x + B*x**2 + A*x**3"
   ]
  },
  {
   "cell_type": "code",
   "execution_count": 17,
   "id": "a58c4b8a-b6f3-4e10-90eb-629391397623",
   "metadata": {},
   "outputs": [],
   "source": [
    "COLOR = {16: 'tab:purple', 64: 'tab:red', 256: 'tab:green', 1024: 'tab:orange'}\n",
    "\n",
    "def run_integrator(integrator):\n",
    "    fig, axs = plt.subplots(1, 3, figsize=(12.8, 3.2))\n",
    "\n",
    "    for h_res in [16, 64, 256, 1024]:\n",
    "        Nstep = 432 * min(h_res, 64)\n",
    "        Nsub = max(h_res // 64, 1)\n",
    "        h = 1 / h_res\n",
    "\n",
    "        t_start = perf_counter()\n",
    "        history = integrator(Nstep, Nsub, h, r0_test, v0_test)\n",
    "        t_end = perf_counter()\n",
    "        print(f'h = {h:.4f}:', t_end-t_start, 's')\n",
    "\n",
    "        ax = axs[0]\n",
    "        ax.scatter(history[:, 0], history[:, 1], c=COLOR[h_res], s=0.1, rasterized=True)\n",
    "        ax.plot([], [], c=COLOR[h_res], label=f'h = {h:.4f}')\n",
    "        ax.set_xlabel('Position ($x$ comp)')\n",
    "        ax.set_ylabel('Position ($y$ comp)')\n",
    "\n",
    "        M_exact_ = M_exact if h_res != 16 else M_exact[::4]\n",
    "        axs[1].scatter(M_exact_, vEM_from_rxy_vxy(history[:, :2], history[:, 2:]) - EM_test,\n",
    "                       c=COLOR[h_res], s=0.1, rasterized=True)\n",
    "        axs[1].set_ylabel('$\\Delta$ Mechanic energy')\n",
    "        axs[2].scatter(M_exact_, vLz_from_rxy_vxy(history[:, :2], history[:, 2:]) - Lz_test,\n",
    "                       c=COLOR[h_res], s=0.1, rasterized=True)\n",
    "        axs[2].set_ylabel('$\\Delta$ Angular momentum')\n",
    "\n",
    "    axs[0].legend()\n",
    "    for i in range(1, 3):\n",
    "        axs[i].set_yscale('asinh')\n",
    "        axs[i].set_xlabel('Mean anomaly (exact)')\n",
    "    for ax in axs: format_axis(ax)\n",
    "    fig.tight_layout()\n",
    "    plt.show()"
   ]
  },
  {
   "cell_type": "code",
   "execution_count": 18,
   "id": "c00d00f6-db03-4e2a-b40f-afb175cfc0b7",
   "metadata": {},
   "outputs": [],
   "source": [
    "class TestCase:\n",
    "\n",
    "    def __init__(self, integrator, Nstep, Nsub, h_res, CC=False):\n",
    "        self.Nstep = Nstep\n",
    "        self.Nsub = Nsub\n",
    "        self.h_res = h_res\n",
    "        self.CC = CC\n",
    "\n",
    "        self.history = integrator(Nstep, Nsub, 1/h_res, r0_test, v0_test)\n",
    "        if not CC:\n",
    "            self.EM = vEM_from_rxy_vxy(self.history[:, :2], self.history[:, 2:])\n",
    "            self.Lz = vLz_from_rxy_vxy(self.history[:, :2], self.history[:, 2:])\n",
    "        else:\n",
    "            self.EM = EM_test\n",
    "            self.Lz = Lz_test\n",
    "        self.slice = np.s_[::1 if self.h_res != 16 else 4]\n",
    "\n",
    "    def plot_orbit(self, ax: mpl.axes._axes.Axes, add_legend=False):\n",
    "        ax.scatter(self.history[:, 0], self.history[:, 1], c=COLOR[self.h_res], s=0.1, rasterized=True)\n",
    "        if add_legend: ax.plot([], [], c=COLOR[self.h_res], label=f'h = {1/self.h_res:.4f}')\n",
    "\n",
    "    def plot_errors(self, axs: np.ndarray):\n",
    "        for ax, data, exact in zip(axs, [*self.history.T, self.EM, self.Lz],\n",
    "                                   [*rxy_exact, *vxy_exact, np.array([EM_test]), np.array([Lz_test])]):\n",
    "            ax.scatter(M_exact[self.slice], np.abs(data - exact[self.slice]), c=COLOR[self.h_res], s=0.1, rasterized=True)\n",
    "        axs[0].plot([], [], c=COLOR[self.h_res], label=f'h = {1/self.h_res:.4f}')\n",
    "\n",
    "    def study_apocenter_and_pericenter(self):\n",
    "        self.t_apo = None; self.r_apo = None\n",
    "        self.t_peri = None; self.r_peri = None\n",
    "        h = 1/min(self.h_res, 64)  # time step for this purpose\n",
    "\n",
    "        # find the ``apocenter''\n",
    "        i_apo = np.argmax(self.history[:, 1] < 0.0) - 1\n",
    "        if i_apo < 0 or self.history[i_apo+1, 1] >= 0.0: return\n",
    "\n",
    "        ry_interp = interp_maker(self.history[i_apo, 1], self.history[i_apo+1, 1],\n",
    "                                 self.history[i_apo, 3], self.history[i_apo+1, 3], h)\n",
    "        dt_apo = fsolve(ry_interp, x0=0.0)[0]; del ry_interp\n",
    "        if not (0.0 <= dt_apo <= h): return\n",
    "        self.t_apo = i_apo * h + dt_apo\n",
    "\n",
    "        rx_interp = interp_maker(self.history[i_apo, 0], self.history[i_apo+1, 0],\n",
    "                                 self.history[i_apo, 2], self.history[i_apo+1, 2], h)\n",
    "        self.r_apo = rx_interp(dt_apo); del rx_interp\n",
    "\n",
    "        # find the ``pericenter''\n",
    "        i_peri = np.argmax(self.history[i_apo+1:, 1] > 0.0) + i_apo\n",
    "        if i_peri < i_apo+1 or self.history[i_peri+1, 1] <= 0.0: return\n",
    "\n",
    "        ry_interp = interp_maker(self.history[i_peri, 1], self.history[i_peri+1, 1],\n",
    "                                 self.history[i_peri, 3], self.history[i_peri+1, 3], h)\n",
    "        dt_peri = fsolve(ry_interp, x0=0.0)[0]; del ry_interp\n",
    "        if not (0.0 <= dt_peri <= h): return\n",
    "        self.t_peri = i_peri * h + dt_peri\n",
    "\n",
    "        rx_interp = interp_maker(self.history[i_peri, 0], self.history[i_peri+1, 0],\n",
    "                                 self.history[i_peri, 2], self.history[i_peri+1, 2], h)\n",
    "        self.r_peri = rx_interp(dt_peri); del rx_interp"
   ]
  },
  {
   "cell_type": "code",
   "execution_count": 19,
   "id": "0f47e959-1976-4e3f-91aa-556221724d0d",
   "metadata": {},
   "outputs": [],
   "source": [
    "class TestSuite:\n",
    "\n",
    "    def __init__(self, integrator, name, CC=False):\n",
    "        self.cases = {}\n",
    "        self.name = name\n",
    "        self.CC = CC\n",
    "\n",
    "        for h_res in [16, 64, 256, 1024]:\n",
    "            Nstep = 432 * min(h_res, 64)\n",
    "            Nsub = max(h_res // 64, 1)\n",
    "            h = 1 / h_res\n",
    "\n",
    "            self.cases[h_res] = TestCase(integrator, Nstep, Nsub, h_res, CC)\n",
    "\n",
    "    def plot_orbits(self, ax: mpl.axes._axes.Axes, add_legend=False):\n",
    "        for case in self.cases.values():\n",
    "            case.plot_orbit(ax, add_legend)\n",
    "        if add_legend: ax.legend()\n",
    "        format_axis(ax)\n",
    "\n",
    "    def plot_errors(self):\n",
    "        if self.CC:\n",
    "            fig, axs = plt.subplots(4, figsize=(12.8, 8.8), sharex='col')\n",
    "        else:\n",
    "            fig, axs = plt.subplots(6, figsize=(12.8, 12.8), sharex='col')\n",
    "\n",
    "        for h_res, case in self.cases.items():\n",
    "            case.plot_errors(axs)\n",
    "\n",
    "        for ax, label in zip(axs, ['|$\\Delta$ Position ($x$ comp)|', '|$\\Delta$ Position ($y$ comp)|',\n",
    "                                   '|$\\Delta$ Velocity ($x$ comp)|', '|$\\Delta$ Velocity ($y$ comp)|',\n",
    "                                   '|$\\Delta$ Mechanic energy|', '|$\\Delta$ Angular momentum|']):\n",
    "            ax.set_yscale('log')\n",
    "            ax.set_ylabel(label)\n",
    "            format_axis(ax)\n",
    "\n",
    "        axs[0].legend(ncols=4)\n",
    "        axs[-1].set_xlabel('Mean anomaly (exact)')\n",
    "        axs[-1].set_xlim((-0.05, M_exact[-1]+0.05))\n",
    "        fig.tight_layout()\n",
    "        fig.subplots_adjust(hspace=0.1)\n",
    "        plt.savefig(f'eccentric_{self.name}.pdf', dpi=128)\n",
    "        plt.close(fig)\n",
    "\n",
    "    def study_apocenters_and_pericenters(self, verbose=False):\n",
    "        if verbose: print(f'{self.name}_suite', 'apocenters and pericenters:')\n",
    "        for h_res, case in self.cases.items():\n",
    "            case.study_apocenter_and_pericenter()\n",
    "            if verbose: print(f'h = {1/h_res:.4f}:', case.t_apo, case.r_apo, case.t_peri, case.r_peri)"
   ]
  },
  {
   "cell_type": "markdown",
   "id": "22937838-1f38-4027-a33e-00dff3dcf1a3",
   "metadata": {},
   "source": [
    "# Leapfrog integrators"
   ]
  },
  {
   "cell_type": "code",
   "execution_count": 20,
   "id": "d4faaeaf-0e52-4ad7-a0cb-b5f03401ba84",
   "metadata": {},
   "outputs": [],
   "source": [
    "@njit\n",
    "def LF_integrator(Nstep: int, Nsub: int, h: float,\n",
    "                  r_init: np.array, v_init: np.array):\n",
    "    history = np.empty((Nstep+1, 4), dtype=np.float64)\n",
    "    history[0, :2] = r_init\n",
    "    history[0, 2:] = v_init\n",
    "    h_half = h / 2.0\n",
    "\n",
    "    r_curr = r_init.copy()\n",
    "    a_curr = np.empty((2,), dtype=np.float64)\n",
    "    EOM_rxy_to_axy(r_curr, a_curr)\n",
    "    v_curr = v_init - a_curr * h_half\n",
    "\n",
    "    for j in range(1, Nstep+1):\n",
    "        for i in range(Nsub):\n",
    "            v_curr += a_curr * h\n",
    "            r_curr += v_curr * h\n",
    "            EOM_rxy_to_axy(r_curr, a_curr)\n",
    "        history[j, :2] = r_curr\n",
    "        history[j, 2:] = v_curr + a_curr * h_half\n",
    "\n",
    "    return history"
   ]
  },
  {
   "cell_type": "code",
   "execution_count": 21,
   "id": "eb5bbb44-08e4-4f0a-9eb4-471fc34adbfb",
   "metadata": {},
   "outputs": [
    {
     "name": "stdout",
     "output_type": "stream",
     "text": [
      "h = 0.0625: 0.6959005000026082 s, [-6.35700099e-07  4.06821576e-05  2.05314625e-05 -6.24524282e-07]\n",
      "h = 0.0156: 8.900002285372466e-06 s, [-2.48350662e-09  6.35775117e-07  3.18073801e-07 -2.48077814e-09]\n",
      "h = 0.0039: 4.1000021155923605e-06 s, [-9.70123981e-12  9.93409988e-09  4.96723184e-09 -9.70057368e-12]\n",
      "h = 0.0010: 3.5999983083456755e-06 s, [-3.78586051e-14  1.55220422e-10  7.76103885e-11 -3.78586051e-14]\n"
     ]
    }
   ],
   "source": [
    "test_integrator(LF_integrator)"
   ]
  },
  {
   "cell_type": "code",
   "execution_count": 22,
   "id": "58f301d4-5cf2-4b7a-9914-6c3beffd26da",
   "metadata": {},
   "outputs": [],
   "source": [
    "plot_errors = False  # 4/30/2024\n",
    "\n",
    "# run_integrator(LF_integrator)\n",
    "LF_suite = TestSuite(LF_integrator, 'LF', False)\n",
    "if plot_errors: LF_suite.plot_errors()"
   ]
  },
  {
   "cell_type": "code",
   "execution_count": 23,
   "id": "1e38f5e7-d7be-480e-87f7-af3b661a3e13",
   "metadata": {},
   "outputs": [],
   "source": [
    "do_timeit = False  # 4/30/2024\n",
    "\n",
    "if do_timeit:\n",
    "    my_integrator = LF_integrator\n",
    "    %timeit my_integrator(432*16, 1, 1/16, r0_test, v0_test)\n",
    "    %timeit my_integrator(432*64, 1, 1/64, r0_test, v0_test)\n",
    "    %timeit my_integrator(432*64, 4, 1/256, r0_test, v0_test)\n",
    "    %timeit my_integrator(432*64, 16, 1/1024, r0_test, v0_test)"
   ]
  },
  {
   "cell_type": "code",
   "execution_count": 24,
   "id": "16dc116e-a866-4401-aa5c-23fc84321a3f",
   "metadata": {},
   "outputs": [],
   "source": [
    "@njit\n",
    "def LFCC_integrator(Nstep: int, Nsub: int, h: float,\n",
    "                    r_init: np.array, v_init: np.array):\n",
    "    history = np.empty((Nstep+1, 4), dtype=np.float64)\n",
    "    history[0, :2] = r_init\n",
    "    history[0, 2:] = v_init\n",
    "    h_half = h / 2.0\n",
    "\n",
    "    EM = EM_from_rxy_vxy(r_init, v_init)\n",
    "    Lz = Lz_from_rxy_vxy(r_init, v_init)\n",
    "\n",
    "    r_curr = r_init.copy()\n",
    "    a_curr = np.empty((2,), dtype=np.float64)\n",
    "    EOM_rxy_to_axy(r_curr, a_curr)\n",
    "    v_curr = v_init.copy()\n",
    "\n",
    "    for j in range(1, Nstep+1):\n",
    "        for i in range(Nsub):\n",
    "            v_curr += a_curr * h_half\n",
    "            r_curr += v_curr * h\n",
    "            EOM_rxy_to_axy(r_curr, a_curr)\n",
    "            CC_rxy_to_vxy(r_curr, v_curr, EM, Lz)\n",
    "        history[j, :2] = r_curr\n",
    "        history[j, 2:] = v_curr\n",
    "\n",
    "    return history"
   ]
  },
  {
   "cell_type": "code",
   "execution_count": 25,
   "id": "72d62afd-644a-4547-81d9-320d77cf0cb8",
   "metadata": {},
   "outputs": [
    {
     "name": "stdout",
     "output_type": "stream",
     "text": [
      "h = 0.0625: 0.9262871000028099 s, [-6.35700099e-07  4.06821576e-05 -4.04437400e-05 -4.44293226e-06]\n",
      "h = 0.0156: 1.09999964479357e-05 s, [-2.48350662e-09  6.35775117e-07 -6.35542286e-07 -1.73828486e-08]\n",
      "h = 0.0039: 4.4000043999403715e-06 s, [-9.70123981e-12  9.93409988e-09 -9.93387251e-09 -6.79084566e-11]\n",
      "h = 0.0010: 3.7999998312443495e-06 s, [-3.78586051e-14  1.55220422e-10 -1.55220200e-10 -2.65232281e-13]\n"
     ]
    }
   ],
   "source": [
    "test_integrator(LFCC_integrator)"
   ]
  },
  {
   "cell_type": "code",
   "execution_count": 26,
   "id": "ce6e6fbe-a3ec-48bc-9b07-46d22c5b448c",
   "metadata": {},
   "outputs": [],
   "source": [
    "# run_integrator(LFCC_integrator)\n",
    "LFCC_suite = TestSuite(LFCC_integrator, 'LFCC', True)\n",
    "if plot_errors: LFCC_suite.plot_errors()"
   ]
  },
  {
   "cell_type": "code",
   "execution_count": 27,
   "id": "98488a10-0d35-4f84-a35f-2d8206571089",
   "metadata": {},
   "outputs": [],
   "source": [
    "if do_timeit:\n",
    "    my_integrator = LFCC_integrator\n",
    "    %timeit my_integrator(432*16, 1, 1/16, r0_test, v0_test)\n",
    "    %timeit my_integrator(432*64, 1, 1/64, r0_test, v0_test)\n",
    "    %timeit my_integrator(432*64, 4, 1/256, r0_test, v0_test)\n",
    "    %timeit my_integrator(432*64, 16, 1/1024, r0_test, v0_test)"
   ]
  },
  {
   "cell_type": "markdown",
   "id": "89cf53f3-aef6-47bd-a50a-b9b08c2b8403",
   "metadata": {},
   "source": [
    "# Runge–Kutta integrators"
   ]
  },
  {
   "cell_type": "code",
   "execution_count": 28,
   "id": "5838bd2c-4b17-46be-83be-64e878a25f4e",
   "metadata": {},
   "outputs": [],
   "source": [
    "@njit\n",
    "def RK4_compute_k(rv, k):\n",
    "    k[:2] = rv[2:]\n",
    "    EOM_rxy_to_axy(rv[:2], k[2:])"
   ]
  },
  {
   "cell_type": "code",
   "execution_count": 29,
   "id": "d7b83390-cec9-4e73-b898-75dde7d972b8",
   "metadata": {},
   "outputs": [],
   "source": [
    "@njit\n",
    "def RK4_integrator(Nstep: int, Nsub: int, h: float,\n",
    "                   r_init: np.array, v_init: np.array):\n",
    "    history = np.empty((Nstep+1, 4), dtype=np.float64)\n",
    "    history[0, :2] = r_init\n",
    "    history[0, 2:] = v_init\n",
    "    h_half = h / 2.0\n",
    "\n",
    "    rv_curr = history[0].copy()\n",
    "    k1234 = np.empty((4, 4), dtype=np.float64)\n",
    "    weights = np.empty((4,), dtype=np.float64)\n",
    "    weights[::3] = h_half / 3.0\n",
    "    weights[1:3] = h / 3.0\n",
    "\n",
    "    for j in range(1, Nstep+1):\n",
    "        for i in range(Nsub):\n",
    "            RK4_compute_k(rv_curr,                     k1234[0])  # compute k1\n",
    "            RK4_compute_k(rv_curr + k1234[0] * h_half, k1234[1])  # compute k2\n",
    "            RK4_compute_k(rv_curr + k1234[1] * h_half, k1234[2])  # compute k3\n",
    "            RK4_compute_k(rv_curr + k1234[2] * h,      k1234[3])  # compute k4\n",
    "            rv_curr += k1234.T @ weights\n",
    "        history[j] = rv_curr\n",
    "\n",
    "    return history"
   ]
  },
  {
   "cell_type": "code",
   "execution_count": 30,
   "id": "0bc087bb-36d1-41a0-9f80-0c7e01376ae2",
   "metadata": {},
   "outputs": [
    {
     "name": "stdout",
     "output_type": "stream",
     "text": [
      "h = 0.0625: 0.9614418999990448 s, [-3.80382725e-10 -7.99013156e-09 -6.94721854e-09 -3.84469456e-10]\n",
      "h = 0.0156: 1.6900004993658513e-05 s, [-9.33697564e-14 -7.76364042e-12 -6.79049351e-12 -9.34807787e-14]\n",
      "h = 0.0039: 5.900001269765198e-06 s, [ 0.00000000e+00 -7.57900687e-15 -6.63141417e-15  0.00000000e+00]\n",
      "h = 0.0010: 5.100002454128116e-06 s, [ 0.00000000e+00 -7.37257477e-18 -6.50521303e-18  0.00000000e+00]\n"
     ]
    }
   ],
   "source": [
    "test_integrator(RK4_integrator)"
   ]
  },
  {
   "cell_type": "code",
   "execution_count": 31,
   "id": "4726f3d3-aa3e-4320-869f-f679368c0232",
   "metadata": {},
   "outputs": [],
   "source": [
    "# run_integrator(RK4_integrator)\n",
    "RK4_suite = TestSuite(RK4_integrator, 'RK4', False)\n",
    "if plot_errors: RK4_suite.plot_errors()"
   ]
  },
  {
   "cell_type": "code",
   "execution_count": 32,
   "id": "8b908591-6e4e-453f-9bcc-7f83b4d137cc",
   "metadata": {},
   "outputs": [],
   "source": [
    "if do_timeit:\n",
    "    my_integrator = RK4_integrator\n",
    "    %timeit my_integrator(432*16, 1, 1/16, r0_test, v0_test)\n",
    "    %timeit my_integrator(432*64, 1, 1/64, r0_test, v0_test)\n",
    "    %timeit my_integrator(432*64, 4, 1/256, r0_test, v0_test)\n",
    "    %timeit my_integrator(432*64, 16, 1/1024, r0_test, v0_test)"
   ]
  },
  {
   "cell_type": "code",
   "execution_count": 33,
   "id": "d1cddb3e-d784-4f8d-a1c0-4961e3080c5d",
   "metadata": {},
   "outputs": [],
   "source": [
    "@njit\n",
    "def RK4CC_integrator(Nstep: int, Nsub: int, h: float,\n",
    "                     r_init: np.array, v_init: np.array):\n",
    "    history = np.empty((Nstep+1, 4), dtype=np.float64)\n",
    "    history[0, :2] = r_init\n",
    "    history[0, 2:] = v_init\n",
    "    h_half = h / 2.0\n",
    "\n",
    "    EM = EM_from_rxy_vxy(r_init, v_init)\n",
    "    Lz = Lz_from_rxy_vxy(r_init, v_init)\n",
    "\n",
    "    rv_curr = history[0].copy()\n",
    "    k1234 = np.empty((4, 4), dtype=np.float64)\n",
    "    weights = np.empty((4,), dtype=np.float64)\n",
    "    weights[::3] = h_half / 3.0\n",
    "    weights[1:3] = h / 3.0\n",
    "\n",
    "    for j in range(1, Nstep+1):\n",
    "        for i in range(Nsub):\n",
    "            RK4_compute_k(rv_curr,                     k1234[0])  # compute k1\n",
    "            RK4_compute_k(rv_curr + k1234[0] * h_half, k1234[1])  # compute k2\n",
    "            RK4_compute_k(rv_curr + k1234[1] * h_half, k1234[2])  # compute k3\n",
    "            RK4_compute_k(rv_curr + k1234[2] * h,      k1234[3])  # compute k4\n",
    "            rv_curr += k1234.T @ weights\n",
    "            CC_rxy_to_vxy(rv_curr[:2], rv_curr[2:], EM, Lz)\n",
    "        history[j] = rv_curr\n",
    "\n",
    "    return history"
   ]
  },
  {
   "cell_type": "code",
   "execution_count": 34,
   "id": "da50ddef-6774-4de0-a7c2-5f700fb16a09",
   "metadata": {},
   "outputs": [
    {
     "name": "stdout",
     "output_type": "stream",
     "text": [
      "h = 0.0625: 0.7758384999979171 s, [-3.80382725e-10 -7.99013156e-09  7.88036579e-09  1.37358247e-09]\n",
      "h = 0.0156: 2.9999995604157448e-05 s, [-9.33697564e-14 -7.76364042e-12  7.75693051e-12  3.36064510e-13]\n",
      "h = 0.0039: 8.899995009414852e-06 s, [ 0.00000000e+00 -7.57900687e-15  7.57857319e-15  1.11022302e-16]\n",
      "h = 0.0010: 5.500005499925464e-06 s, [ 0.00000000e+00 -7.37257477e-18  7.26415456e-18  1.11022302e-16]\n"
     ]
    }
   ],
   "source": [
    "test_integrator(RK4CC_integrator)"
   ]
  },
  {
   "cell_type": "code",
   "execution_count": 35,
   "id": "6d783616-03fb-47ef-8c82-26a229fe99b0",
   "metadata": {},
   "outputs": [],
   "source": [
    "# run_integrator(RK4CC_integrator)\n",
    "RK4CC_suite = TestSuite(RK4CC_integrator, 'RK4CC', True)\n",
    "if plot_errors: RK4CC_suite.plot_errors()"
   ]
  },
  {
   "cell_type": "code",
   "execution_count": 36,
   "id": "f8273dfc-aa64-48bd-82de-28fcc80e7530",
   "metadata": {},
   "outputs": [],
   "source": [
    "if do_timeit:\n",
    "    my_integrator = RK4CC_integrator\n",
    "    %timeit my_integrator(432*16, 1, 1/16, r0_test, v0_test)\n",
    "    %timeit my_integrator(432*64, 1, 1/64, r0_test, v0_test)\n",
    "    %timeit my_integrator(432*64, 4, 1/256, r0_test, v0_test)\n",
    "    %timeit my_integrator(432*64, 16, 1/1024, r0_test, v0_test)"
   ]
  },
  {
   "cell_type": "markdown",
   "id": "0ee6e864-c834-4e9d-a7ee-e6b3b47108d3",
   "metadata": {},
   "source": [
    "# ContEvol integrators"
   ]
  },
  {
   "cell_type": "code",
   "execution_count": 37,
   "id": "98ff939c-8d3b-4e11-8d02-fa0b1ef52f53",
   "metadata": {},
   "outputs": [],
   "source": [
    "@njit\n",
    "def CE1_integrator(Nstep: int, Nsub: int, h: float,\n",
    "                   r_init: np.array, v_init: np.array):\n",
    "    history = np.empty((Nstep+1, 4), dtype=np.float64)\n",
    "    history[0, :2] = r_init\n",
    "    history[0, 2:] = v_init\n",
    "    # h^2/2, h^3/6, h^4/24, h^5/120\n",
    "    h_powers = np.empty((4,), dtype=np.float64)\n",
    "    h_powers[0] = h ** 2.0 / 2.0\n",
    "    for k in range(1, 4):\n",
    "        h_powers[k] = h_powers[k-1] * h / (k+2.0)\n",
    "\n",
    "    r_curr = r_init.copy()\n",
    "    v_curr = v_init.copy()\n",
    "\n",
    "    # r^2, r^-3, r^-5, r^-7, and r^-9\n",
    "    r_powers = np.empty((5,), dtype=np.float64)\n",
    "    # r@v, (r@v)^2, and v@v + r@a\n",
    "    dot_products = np.empty((3,), dtype=np.float64)\n",
    "                # acceleration, jerk, snap, and crackle\n",
    "    derivatives = np.empty((4, 2), dtype=np.float64)\n",
    "\n",
    "    for j in range(1, Nstep+1):\n",
    "        for i in range(Nsub):\n",
    "            r_powers[0] = r_curr @ r_curr\n",
    "            r_powers[1] = r_powers[0] ** -1.5\n",
    "            for k in range(2, 5):\n",
    "                r_powers[k] = r_powers[k-1] / r_powers[0]\n",
    "\n",
    "            dot_products[0] = r_curr @ v_curr\n",
    "            dot_products[1] = dot_products[0] ** 2.0\n",
    "            # compute acceleration\n",
    "            derivatives[0] = -r_powers[1] * r_curr\n",
    "            dot_products[2] = v_curr @ v_curr + r_curr @ derivatives[0]\n",
    "\n",
    "            # compute jerk\n",
    "            derivatives[1] = -r_powers[1] * v_curr\n",
    "            derivatives[1] += 3*r_powers[2]*dot_products[0] * r_curr\n",
    "            # compute snap\n",
    "            derivatives[2] = -r_powers[1] * derivatives[0]\n",
    "            derivatives[2] += 3*r_powers[2] * (2*dot_products[0] * v_curr + dot_products[2] * r_curr)\n",
    "            derivatives[2] -= 15*r_powers[3]*dot_products[1] * r_curr\n",
    "            # compute crackle\n",
    "            derivatives[3] = -r_powers[1] * derivatives[1]\n",
    "            derivatives[3] += 3*r_powers[2] * (3*(dot_products[0] * derivatives[0] + dot_products[2] * v_curr)\n",
    "                                               + (3*v_curr@derivatives[0] + r_curr@derivatives[1]) * r_curr)\n",
    "            derivatives[3] -= 45*r_powers[3] * (dot_products[1] * v_curr + dot_products[0]*dot_products[2] * r_curr)\n",
    "            derivatives[3] += 105*r_powers[4]*dot_products[0]*dot_products[1] * r_curr\n",
    "\n",
    "            # update position\n",
    "            r_curr += v_curr * h\n",
    "            r_curr += derivatives.T @ h_powers\n",
    "\n",
    "            # update velocity\n",
    "            v_curr += derivatives[0] * h\n",
    "            v_curr += derivatives[1:].T @ h_powers[:3]\n",
    "\n",
    "        history[j, :2] = r_curr\n",
    "        history[j, 2:] = v_curr\n",
    "\n",
    "    return history"
   ]
  },
  {
   "cell_type": "code",
   "execution_count": 38,
   "id": "1ccd503d-7b39-44f4-b615-9b685e482130",
   "metadata": {},
   "outputs": [
    {
     "name": "stdout",
     "output_type": "stream",
     "text": [
      "h = 0.0625: 1.7267385000013746 s, [8.27784508e-11 7.39103223e-13 7.94654686e-09 8.27784508e-11]\n",
      "h = 0.0156: 1.460000203223899e-05 s, [2.02060590e-14 4.51028104e-17 7.76097589e-12 2.02060590e-14]\n",
      "h = 0.0039: 5.800000508315861e-06 s, [0.00000000e+00 0.00000000e+00 7.57900687e-15 0.00000000e+00]\n",
      "h = 0.0010: 5.399997462518513e-06 s, [0.00000000e+00 0.00000000e+00 7.37257477e-18 0.00000000e+00]\n"
     ]
    }
   ],
   "source": [
    "test_integrator(CE1_integrator)"
   ]
  },
  {
   "cell_type": "code",
   "execution_count": 39,
   "id": "46e83141-e7e8-49e5-aa4e-1317acca740d",
   "metadata": {},
   "outputs": [],
   "source": [
    "# run_integrator(CE1_integrator)\n",
    "CE1_suite = TestSuite(CE1_integrator, 'CE1', False)\n",
    "if plot_errors: CE1_suite.plot_errors()"
   ]
  },
  {
   "cell_type": "code",
   "execution_count": 40,
   "id": "bebfd3d1-9f98-4edf-a11b-b8d11903ed9c",
   "metadata": {},
   "outputs": [],
   "source": [
    "if do_timeit:\n",
    "    my_integrator = CE1_integrator\n",
    "    %timeit my_integrator(432*16, 1, 1/16, r0_test, v0_test)\n",
    "    %timeit my_integrator(432*64, 1, 1/64, r0_test, v0_test)\n",
    "    %timeit my_integrator(432*64, 4, 1/256, r0_test, v0_test)\n",
    "    %timeit my_integrator(432*64, 16, 1/1024, r0_test, v0_test)"
   ]
  },
  {
   "cell_type": "code",
   "execution_count": 41,
   "id": "3fb1f52d-4fc6-45db-b984-8e304eb64630",
   "metadata": {},
   "outputs": [],
   "source": [
    "@njit\n",
    "def CE1CC_integrator(Nstep: int, Nsub: int, h: float,\n",
    "                     r_init: np.array, v_init: np.array):\n",
    "    history = np.empty((Nstep+1, 4), dtype=np.float64)\n",
    "    history[0, :2] = r_init\n",
    "    history[0, 2:] = v_init\n",
    "    # h^2/2, h^3/6, h^4/24, h^5/120\n",
    "    h_powers = np.empty((4,), dtype=np.float64)\n",
    "    h_powers[0] = h ** 2.0 / 2.0\n",
    "    for k in range(1, 4):\n",
    "        h_powers[k] = h_powers[k-1] * h / (k+2.0)\n",
    "\n",
    "    EM = EM_from_rxy_vxy(r_init, v_init)\n",
    "    Lz = Lz_from_rxy_vxy(r_init, v_init)\n",
    "\n",
    "    r_curr = r_init.copy()\n",
    "    v_curr = v_init.copy()\n",
    "\n",
    "    # r^2, r^-3, r^-5, r^-7, and r^-9\n",
    "    r_powers = np.empty((5,), dtype=np.float64)\n",
    "    # r@v, (r@v)^2, and v@v + r@a\n",
    "    dot_products = np.empty((3,), dtype=np.float64)\n",
    "                # acceleration, jerk, snap, and crackle\n",
    "    derivatives = np.empty((4, 2), dtype=np.float64)\n",
    "\n",
    "    for j in range(1, Nstep+1):\n",
    "        for i in range(Nsub):\n",
    "            r_powers[0] = r_curr @ r_curr\n",
    "            r_powers[1] = r_powers[0] ** -1.5\n",
    "            for k in range(2, 5):\n",
    "                r_powers[k] = r_powers[k-1] / r_powers[0]\n",
    "\n",
    "            dot_products[0] = r_curr @ v_curr\n",
    "            dot_products[1] = dot_products[0] ** 2.0\n",
    "            # compute acceleration\n",
    "            derivatives[0] = -r_powers[1] * r_curr\n",
    "            dot_products[2] = v_curr @ v_curr + r_curr @ derivatives[0]\n",
    "\n",
    "            # compute jerk\n",
    "            derivatives[1] = -r_powers[1] * v_curr\n",
    "            derivatives[1] += 3*r_powers[2]*dot_products[0] * r_curr\n",
    "            # compute snap\n",
    "            derivatives[2] = -r_powers[1] * derivatives[0]\n",
    "            derivatives[2] += 3*r_powers[2] * (2*dot_products[0] * v_curr + dot_products[2] * r_curr)\n",
    "            derivatives[2] -= 15*r_powers[3]*dot_products[1] * r_curr\n",
    "            # compute crackle\n",
    "            derivatives[3] = -r_powers[1] * derivatives[1]\n",
    "            derivatives[3] += 3*r_powers[2] * (3*(dot_products[0] * derivatives[0] + dot_products[2] * v_curr)\n",
    "                                               + (3*v_curr@derivatives[0] + r_curr@derivatives[1]) * r_curr)\n",
    "            derivatives[3] -= 45*r_powers[3] * (dot_products[1] * v_curr + dot_products[0]*dot_products[2] * r_curr)\n",
    "            derivatives[3] += 105*r_powers[4]*dot_products[0]*dot_products[1] * r_curr\n",
    "\n",
    "            # update position\n",
    "            r_curr += v_curr * h\n",
    "            r_curr += derivatives.T @ h_powers\n",
    "\n",
    "            # update velocity\n",
    "            CC_rxy_to_vxy(r_curr, v_curr, EM, Lz)\n",
    "\n",
    "        history[j, :2] = r_curr\n",
    "        history[j, 2:] = v_curr\n",
    "\n",
    "    return history"
   ]
  },
  {
   "cell_type": "code",
   "execution_count": 42,
   "id": "6ea1bf3c-27ef-4ee9-abab-0cbe9f4dee6f",
   "metadata": {},
   "outputs": [
    {
     "name": "stdout",
     "output_type": "stream",
     "text": [
      "h = 0.0625: 1.2611771000010776 s, [ 8.27784508e-11  7.39103223e-13  9.58704643e-12 -8.22247825e-11]\n",
      "h = 0.0156: 1.649999467190355e-05 s, [ 2.02060590e-14  4.51028104e-17  5.86336535e-16 -2.02060590e-14]\n",
      "h = 0.0039: 6.200003554113209e-06 s, [0. 0. 0. 0.]\n",
      "h = 0.0010: 5.800000508315861e-06 s, [ 0.00000000e+00  0.00000000e+00 -1.08420217e-19  1.11022302e-16]\n"
     ]
    }
   ],
   "source": [
    "test_integrator(CE1CC_integrator)"
   ]
  },
  {
   "cell_type": "code",
   "execution_count": 43,
   "id": "a76da3fe-a6d5-4828-8a89-1c55ecf54653",
   "metadata": {},
   "outputs": [],
   "source": [
    "# run_integrator(CE1CC_integrator)\n",
    "CE1CC_suite = TestSuite(CE1CC_integrator, 'CE1CC', True)\n",
    "if plot_errors: CE1CC_suite.plot_errors()"
   ]
  },
  {
   "cell_type": "code",
   "execution_count": 44,
   "id": "4cfff65d-4677-4c10-82e8-a6943476e83f",
   "metadata": {},
   "outputs": [],
   "source": [
    "if do_timeit:\n",
    "    my_integrator = CE1CC_integrator\n",
    "    %timeit my_integrator(432*16, 1, 1/16, r0_test, v0_test)\n",
    "    %timeit my_integrator(432*64, 1, 1/64, r0_test, v0_test)\n",
    "    %timeit my_integrator(432*64, 4, 1/256, r0_test, v0_test)\n",
    "    %timeit my_integrator(432*64, 16, 1/1024, r0_test, v0_test)"
   ]
  },
  {
   "cell_type": "markdown",
   "id": "dca75e8b-b454-421f-8248-65039d394bc0",
   "metadata": {},
   "source": [
    "# Summary and others"
   ]
  },
  {
   "cell_type": "code",
   "execution_count": 45,
   "id": "27f7e968-3aa4-4252-bfed-08cf178834e6",
   "metadata": {},
   "outputs": [],
   "source": [
    "if False:  # 4/30/2024\n",
    "    fig, axs = plt.subplots(3, 2, figsize=(12.8, 9.6), sharex='all', sharey='all')\n",
    "\n",
    "    for j, name in enumerate(['LF', 'RK4', 'CE1']):\n",
    "        for i, suffix in enumerate(['', 'CC']):\n",
    "            locals()[f'{name}{suffix}_suite'].plot_orbits(axs[j, i], j+i==0)\n",
    "            axs[j, i].text(0, -3, name+suffix, ha='right', va='bottom')\n",
    "\n",
    "    for ax in axs[:, 0]:\n",
    "        ax.set_ylabel('Position ($y$ comp)')\n",
    "    for ax in axs[-1]:\n",
    "        ax.set_xlabel('Position ($x$ comp)')\n",
    "    ax = axs[-1, -1]\n",
    "    ax.set_xlim((-33.34999999983069, 1.8499999999919376))\n",
    "    ax.set_ylim((-3.0990926088702366, 3.09909260909385))\n",
    "\n",
    "    fig.subplots_adjust(hspace=0.0, wspace=0.0)\n",
    "    fig.tight_layout()\n",
    "    plt.savefig('eccentric_orbits.pdf', dpi=128)\n",
    "    plt.close(fig)"
   ]
  },
  {
   "cell_type": "code",
   "execution_count": 46,
   "id": "f9425254-59dc-453f-a377-dbaf9aebefec",
   "metadata": {},
   "outputs": [],
   "source": [
    "apo_peri = False  # 4/30/2024\n",
    "# Note: The methodology of TestCase.study_apocenter_and_pericenter\n",
    "# reflects quality of the cubic approximation, not that of the integrator.\n",
    "\n",
    "if apo_peri:\n",
    "    for j, name in enumerate(['LF', 'RK4', 'CE1']):\n",
    "        for i, suffix in enumerate(['', 'CC']):\n",
    "            locals()[f'{name}{suffix}_suite'].study_apocenters_and_pericenters(verbose=True)\n",
    "            if j*i != 2: print()"
   ]
  },
  {
   "cell_type": "code",
   "execution_count": 47,
   "id": "47ef654a-694e-4f8b-b4e6-43e57cd0c5c5",
   "metadata": {},
   "outputs": [],
   "source": [
    "def wrap_log_abs_delta(value, exact):\n",
    "    if value is None: return '---'\n",
    "    head, e, tail = f'{np.log10(np.abs(value) / exact):+.2e}'.partition('e')\n",
    "    # return '$' + head + r' \\times 10^{' + str(int(tail)) + '}$'  # too wide\n",
    "    return '$' + head + r'{\\rm e}' + f'{int(tail):+d}'.replace('-', r'\\!\\!-\\!\\!') + '$'"
   ]
  },
  {
   "cell_type": "code",
   "execution_count": 48,
   "id": "fd29ea62-7b6e-4a28-a22f-a2c114234c3b",
   "metadata": {},
   "outputs": [],
   "source": [
    "if apo_peri:\n",
    "    for j, name in enumerate(['LF', 'RK4', 'CE1']):\n",
    "        for i, suffix in enumerate(['', 'CC']):\n",
    "            suite = locals()[f'{name}{suffix}_suite']\n",
    "            print(suite.name, '&', end=' ')\n",
    "\n",
    "            for case in suite.cases.values():\n",
    "                print(wrap_log_abs_delta(case.t_apo, 64*np.pi), end=' & ')\n",
    "            for case in suite.cases.values():\n",
    "                print(wrap_log_abs_delta(case.r_apo, 31.75), end=' & '\n",
    "                      if case.h_res != 1024 else r' \\\\')\n",
    "\n",
    "            if j*i != 2: print()"
   ]
  },
  {
   "cell_type": "code",
   "execution_count": 49,
   "id": "f1d3501e-2f49-40ae-b458-a68da3b2de6f",
   "metadata": {},
   "outputs": [],
   "source": [
    "if apo_peri:\n",
    "    for j, name in enumerate(['LF', 'RK4', 'CE1']):\n",
    "        for i, suffix in enumerate(['', 'CC']):\n",
    "            suite = locals()[f'{name}{suffix}_suite']\n",
    "            print(suite.name, '&', end=' ')\n",
    "\n",
    "            for case in suite.cases.values():\n",
    "                print(wrap_log_abs_delta(case.t_peri, 128*np.pi), end=' & ')\n",
    "            for case in suite.cases.values():\n",
    "                print(wrap_log_abs_delta(case.r_peri, 0.25), end=' & '\n",
    "                      if case.h_res != 1024 else r' \\\\')\n",
    "\n",
    "            if j*i != 2: print()"
   ]
  },
  {
   "cell_type": "code",
   "execution_count": 50,
   "id": "b82b833e-6544-4188-90a9-e9641bc6a4b5",
   "metadata": {},
   "outputs": [],
   "source": [
    "fig, ax = plt.subplots(figsize=(4.8, 4.8))\n",
    "\n",
    "plt.plot(E_exact[:25736], M_exact[:25736], label='exact')\n",
    "plt.plot([0.0, 2.0*np.pi], [0.0, np.pi/32.0], c='tab:orange', ls='--')\n",
    "plt.plot([0.0, 2.0*np.pi], [63.0*np.pi/32.0, 2.0*np.pi], c='tab:orange', ls='--', label='tangents')\n",
    "\n",
    "vinterp = np.vectorize(interp_maker(0.0, 2.0*np.pi, 1/64.0, 1/64.0, 2.0*np.pi))\n",
    "x_arr = np.linspace(0.0, 2.0*np.pi, 257)\n",
    "y_arr = vinterp(x_arr)\n",
    "plt.plot(x_arr, y_arr, c='tab:green', ls=':', label='cubic')\n",
    "\n",
    "ax.legend()\n",
    "ax.set_aspect('equal', 'box')\n",
    "ax.set_xlabel('Eccentric anomaly')\n",
    "ax.set_ylabel('Mean anomaly')\n",
    "\n",
    "format_axis(ax)\n",
    "fig.tight_layout()\n",
    "plt.savefig('root_finding.pdf', dpi=128)\n",
    "plt.close(fig)"
   ]
  },
  {
   "cell_type": "code",
   "execution_count": null,
   "id": "e11b6117-7142-4988-891d-b6558f0c7e47",
   "metadata": {},
   "outputs": [],
   "source": []
  }
 ],
 "metadata": {
  "kernelspec": {
   "display_name": "Python 3 (ipykernel)",
   "language": "python",
   "name": "python3"
  },
  "language_info": {
   "codemirror_mode": {
    "name": "ipython",
    "version": 3
   },
   "file_extension": ".py",
   "mimetype": "text/x-python",
   "name": "python",
   "nbconvert_exporter": "python",
   "pygments_lexer": "ipython3",
   "version": "3.11.9"
  }
 },
 "nbformat": 4,
 "nbformat_minor": 5
}
