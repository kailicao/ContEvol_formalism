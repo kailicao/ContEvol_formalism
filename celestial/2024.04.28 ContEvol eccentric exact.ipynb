{
 "cells": [
  {
   "cell_type": "code",
   "execution_count": 1,
   "id": "3472cff7-e86c-4ab8-84e7-ee2b3d8a9382",
   "metadata": {},
   "outputs": [],
   "source": [
    "import numpy as np\n",
    "from scipy.optimize import fsolve\n",
    "from numba import njit"
   ]
  },
  {
   "cell_type": "code",
   "execution_count": 2,
   "id": "a5d2e61d-5bcb-4e7b-865d-2af5ba163f9f",
   "metadata": {},
   "outputs": [],
   "source": [
    "%matplotlib inline\n",
    "import matplotlib as mpl\n",
    "\n",
    "import matplotlib.pyplot as plt\n",
    "from matplotlib import rcParams\n",
    "rcParams.update({'font.family': 'serif', 'mathtext.fontset': 'dejavuserif',\n",
    "                 'font.size': 12, 'text.latex.preamble': r\"\\usepackage{amsmath}\",\n",
    "                 'xtick.major.pad': 2, 'ytick.major.pad': 2, 'xtick.major.size': 6, 'ytick.major.size': 6,\n",
    "                 'xtick.minor.size': 3, 'ytick.minor.size': 3, 'axes.linewidth': 2, 'axes.labelpad': 1})\n",
    "\n",
    "def format_axis(ax: mpl.axes._axes.Axes) -> None:\n",
    "    ax.minorticks_on(); ax.grid(visible=True, which='major', linestyle=':')\n",
    "    ax.tick_params(axis='both', which='both', direction='out')\n",
    "    ax.xaxis.set_ticks_position('both')\n",
    "    ax.yaxis.set_ticks_position('both')\n",
    "    ax.patch.set_alpha(0.0)"
   ]
  },
  {
   "cell_type": "markdown",
   "id": "d4617bb7-694b-41c0-84cd-b00e1b74bb52",
   "metadata": {},
   "source": [
    "# Exact Solution"
   ]
  },
  {
   "cell_type": "code",
   "execution_count": 3,
   "id": "f920d35e-ceb9-458b-bf67-c40585a8eb89",
   "metadata": {},
   "outputs": [],
   "source": [
    "def Keplers_equation(M, e):\n",
    "    func = lambda x: x - e*np.sin(x) - M\n",
    "    return fsolve(func, M)[0]\n",
    "\n",
    "vKeplers_equation = np.vectorize(Keplers_equation)"
   ]
  },
  {
   "cell_type": "code",
   "execution_count": 4,
   "id": "57630dff-0b74-4c55-b601-fbc87bc3cc59",
   "metadata": {},
   "outputs": [
    {
     "data": {
      "text/plain": [
       "(16.0, 0.984375, 2.817356917396161, 15.75)"
      ]
     },
     "execution_count": 4,
     "metadata": {},
     "output_type": "execute_result"
    }
   ],
   "source": [
    "a_test = 16.0  # semi-major axis\n",
    "e_test = 63/64  # eccentricity\n",
    "b_test = a_test * (1.0 - e_test ** 2.0) ** 0.5  # semi-minor axis\n",
    "c_test = a_test * e_test  # focal distance axis\n",
    "(a_test, e_test, b_test, c_test)"
   ]
  },
  {
   "cell_type": "code",
   "execution_count": 5,
   "id": "0b156d9e-6a9a-4d38-8505-9418e3d91bc3",
   "metadata": {},
   "outputs": [],
   "source": [
    "M_exact = np.linspace(0, 432/64, 432*64+1, dtype=float)  # mean anomaly\n",
    "E_exact = vKeplers_equation(M_exact, e_test)  # eccentric anomaly"
   ]
  },
  {
   "cell_type": "code",
   "execution_count": 6,
   "id": "e4215eff-4ffb-4a14-8439-186834de5228",
   "metadata": {},
   "outputs": [],
   "source": [
    "rxy_exact = np.empty((2, 432*64+1), dtype=float)  # exact position\n",
    "rxy_exact[0] = (np.cos(E_exact) - e_test) * a_test\n",
    "rxy_exact[1] = np.sin(E_exact) * b_test"
   ]
  },
  {
   "cell_type": "code",
   "execution_count": 7,
   "id": "0c6b1587-d281-4487-80c0-dba665a3ded7",
   "metadata": {},
   "outputs": [
    {
     "data": {
      "text/plain": [
       "(-0.03125, 0.25, 2.817356917396161, 0.7043392293490403)"
      ]
     },
     "execution_count": 7,
     "metadata": {},
     "output_type": "execute_result"
    }
   ],
   "source": [
    "EM_test = -1 / (a_test*2.0)  # mechanic energy\n",
    "r0x_test = a_test - c_test  # initial position\n",
    "v0y_test = (1/a_test * (1+e_test)/(1-e_test)) ** 0.5  # initial velocity\n",
    "Lz_test = (a_test * (1-e_test**2.0)) ** 0.5  # angular momentum\n",
    "(EM_test, r0x_test, v0y_test, Lz_test)"
   ]
  },
  {
   "cell_type": "code",
   "execution_count": 8,
   "id": "2c5556cc-0656-4ac8-968f-f59eba292d3a",
   "metadata": {},
   "outputs": [],
   "source": [
    "@njit  # conservation correction\n",
    "def CC_rxy_to_vxy(rxy, vxy, EM, Lz):\n",
    "    vxy[0] = -rxy[1] * Lz\n",
    "    vxy[1] = rxy[0] * Lz\n",
    "\n",
    "    r2 = np.sum(np.square(rxy))\n",
    "    sqrt_Deltar = max(2.0 * (r2**0.5 + EM*r2) - Lz**2.0, 0.0) ** 0.5\n",
    "    vxy += np.sign(rxy[1]) * rxy * sqrt_Deltar\n",
    "\n",
    "    vxy /= r2"
   ]
  },
  {
   "cell_type": "code",
   "execution_count": 9,
   "id": "dd812224-d6e8-44af-ad28-db364d5eb0af",
   "metadata": {},
   "outputs": [],
   "source": [
    "vxy_exact = np.empty((2, 432*64+1), dtype=float)  # exact velocity\n",
    "for i in range(432*64+1):\n",
    "    CC_rxy_to_vxy(rxy_exact[:, i], vxy_exact[:, i], EM_test, Lz_test)"
   ]
  },
  {
   "cell_type": "code",
   "execution_count": 10,
   "id": "5d4bda2f-088b-433a-a345-35b0157beaa4",
   "metadata": {},
   "outputs": [],
   "source": [
    "@njit  # mechanic energy\n",
    "def EM_from_rxy_vxy(rxy, vxy):\n",
    "    # r = np.sqrt(np.sum(np.square(rxy)))\n",
    "    # v2 = np.sum(np.square(vxy))\n",
    "    return -1.0/np.sqrt(np.sum(np.square(rxy))) + np.sum(np.square(vxy))/2.0\n",
    "\n",
    "@njit  # angular momentum\n",
    "def Lz_from_rxy_vxy(rxy, vxy):\n",
    "    return rxy[0]*vxy[1] - rxy[1]*vxy[0]"
   ]
  },
  {
   "cell_type": "code",
   "execution_count": 11,
   "id": "b84625c8-2676-414b-ad4d-d5eb3490e8e4",
   "metadata": {},
   "outputs": [],
   "source": [
    "exact_plot = False  # 4/28/2024, plot everything versus mean anomaly\n",
    "\n",
    "if exact_plot:\n",
    "    EM_recover = np.empty((432*64+1,), dtype=float)  # ``recovered'' mechanic energy\n",
    "    Lz_recover = np.empty((432*64+1,), dtype=float)  # ``recovered'' angular momentum\n",
    "    for i in range(432*64+1):\n",
    "        EM_recover[i] = EM_from_rxy_vxy(rxy_exact[:, i], vxy_exact[:, i])\n",
    "        Lz_recover[i] = Lz_from_rxy_vxy(rxy_exact[:, i], vxy_exact[:, i])"
   ]
  },
  {
   "cell_type": "code",
   "execution_count": 12,
   "id": "ceddc722-9b05-446f-a2b1-a41bc4246754",
   "metadata": {},
   "outputs": [],
   "source": [
    "if exact_plot:\n",
    "    fig, axs = plt.subplots(7, figsize=(12.8, 12.8), sharex='col')\n",
    "\n",
    "    for ax, data, label in zip(axs, [E_exact, *rxy_exact, *vxy_exact, EM_recover - EM_test, Lz_recover - Lz_test],\n",
    "                               ['Eccentric anomaly', 'Position ($x$ comp)', 'Position ($y$ comp)',\n",
    "                                'Velocity ($x$ comp)', 'Velocity ($y$ comp)', '$\\Delta$ Mechanic energy', '$\\Delta$ Angular momentum']):\n",
    "        ax.scatter(M_exact, data, c='tab:blue', s=0.1, rasterized=True)\n",
    "        ax.set_ylabel(label)\n",
    "        format_axis(ax)\n",
    "\n",
    "    axs[-1].set_xlabel('Mean anomaly')\n",
    "    axs[-1].set_xlim((-0.05, M_exact[-1]+0.05))\n",
    "    fig.tight_layout()\n",
    "    fig.subplots_adjust(hspace=0.1)\n",
    "    plt.savefig('eccentric_exact.pdf', dpi=128)"
   ]
  },
  {
   "cell_type": "code",
   "execution_count": null,
   "id": "774445f7-55ab-4fd7-b4e7-9be0222894b2",
   "metadata": {},
   "outputs": [],
   "source": []
  }
 ],
 "metadata": {
  "kernelspec": {
   "display_name": "Python 3 (ipykernel)",
   "language": "python",
   "name": "python3"
  },
  "language_info": {
   "codemirror_mode": {
    "name": "ipython",
    "version": 3
   },
   "file_extension": ".py",
   "mimetype": "text/x-python",
   "name": "python",
   "nbconvert_exporter": "python",
   "pygments_lexer": "ipython3",
   "version": "3.11.9"
  }
 },
 "nbformat": 4,
 "nbformat_minor": 5
}
